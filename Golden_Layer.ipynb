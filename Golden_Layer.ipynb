{
 "cells": [
  {
   "cell_type": "code",
   "execution_count": 0,
   "metadata": {
    "application/vnd.databricks.v1+cell": {
     "cellMetadata": {},
     "inputWidgets": {},
     "nuid": "def9e9d0-92f1-420b-88ef-d30a835a266f",
     "showTitle": false,
     "tableResultSettingsMap": {},
     "title": ""
    }
   },
   "outputs": [],
   "source": [
    "country_to_iso_numeric = {\n",
    "    'United-States': 840,\n",
    "    'Cuba': 192,\n",
    "    'Jamaica': 388,\n",
    "    'India': 356,\n",
    "    'Not-Informed': 0,\n",
    "    'Mexico': 484,\n",
    "    'South Korea': 410,\n",
    "    'Puerto-Rico': 630,\n",
    "    'England': 826,  # parte do UK\n",
    "    'Canada': 124,\n",
    "    'Germany': 276,\n",
    "    'Iran': 364,\n",
    "    'Philippines': 608,\n",
    "    'Italy': 380,\n",
    "    'Poland': 616,\n",
    "    'Columbia': 170,  # corrigido para Colombia\n",
    "    'Cambodia': 116,\n",
    "    'Thailand': 764,\n",
    "    'Ecuador': 218,\n",
    "    'Laos': 418,\n",
    "    'Taiwan': 158,\n",
    "    'Haiti': 332,\n",
    "    'Portugal': 620,\n",
    "    'Dominican-Republic': 214,\n",
    "    'El-Salvador': 222,\n",
    "    'France': 250,\n",
    "    'Honduras': 340,\n",
    "    'Guatemala': 320,\n",
    "    'China': 156,\n",
    "    'Japan': 392,\n",
    "    'Yugoslavia': 890,  # código histórico\n",
    "    'Peru': 604,\n",
    "    'Outlying-US(Guam-USVI-etc)': 581,\n",
    "    'Scotland': 826,  # parte do UK\n",
    "    'Trinadad&Tobago': 780,\n",
    "    'Greece': 300,\n",
    "    'Nicaragua': 558,\n",
    "    'Vietnam': 704,\n",
    "    'Hong': 344,  # Hong Kong\n",
    "    'Ireland': 372,\n",
    "    'Hungary': 348,\n",
    "    'South': 840,  # como United States (por instrução)\n",
    "    'Holand-Netherlands': 528  # Netherlands\n",
    "}"
   ]
  }
 ],
 "metadata": {
  "application/vnd.databricks.v1+notebook": {
   "computePreferences": null,
   "dashboards": [],
   "environmentMetadata": {
    "base_environment": "",
    "environment_version": "3"
   },
   "inputWidgetPreferences": null,
   "language": "python",
   "notebookMetadata": {
    "pythonIndentUnit": 4
   },
   "notebookName": "Golden_Layer",
   "widgets": {}
  },
  "language_info": {
   "name": "python"
  }
 },
 "nbformat": 4,
 "nbformat_minor": 0
}
