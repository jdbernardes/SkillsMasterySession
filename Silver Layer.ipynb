{
 "cells": [
  {
   "cell_type": "code",
   "execution_count": 0,
   "metadata": {
    "application/vnd.databricks.v1+cell": {
     "cellMetadata": {
      "byteLimit": 2048000,
      "rowLimit": 10000
     },
     "inputWidgets": {},
     "nuid": "4cfbfbdf-bb32-4319-99e2-b32e4e094998",
     "showTitle": false,
     "tableResultSettingsMap": {},
     "title": ""
    }
   },
   "outputs": [],
   "source": [
    "!pip install scikit-learn --q\n",
    "!pip install pandas --q\n",
    "dbutils.library.restartPython()"
   ]
  },
  {
   "cell_type": "code",
   "execution_count": 0,
   "metadata": {
    "application/vnd.databricks.v1+cell": {
     "cellMetadata": {
      "byteLimit": 2048000,
      "rowLimit": 10000
     },
     "inputWidgets": {},
     "nuid": "ee46223a-5dbb-41bc-8644-a86d092b4117",
     "showTitle": false,
     "tableResultSettingsMap": {},
     "title": ""
    }
   },
   "outputs": [],
   "source": [
    "import pandas as pd\n",
    "from sklearn.pipeline import Pipeline\n",
    "from sklearn.preprocessing import FunctionTransformer"
   ]
  },
  {
   "cell_type": "code",
   "execution_count": 0,
   "metadata": {
    "application/vnd.databricks.v1+cell": {
     "cellMetadata": {
      "byteLimit": 2048000,
      "rowLimit": 10000
     },
     "inputWidgets": {},
     "nuid": "ef690453-cfce-4fa2-8ebd-701d257c9b56",
     "showTitle": false,
     "tableResultSettingsMap": {},
     "title": ""
    }
   },
   "outputs": [],
   "source": [
    "spark_df = spark.table('bronze.sensus')\n",
    "pandas_df = spark_df.toPandas()\n",
    "pandas_df.head()"
   ]
  },
  {
   "cell_type": "code",
   "execution_count": 0,
   "metadata": {
    "application/vnd.databricks.v1+cell": {
     "cellMetadata": {
      "byteLimit": 2048000,
      "rowLimit": 10000
     },
     "collapsed": true,
     "inputWidgets": {},
     "nuid": "6486427a-bf35-4c51-916e-a070b7b721e7",
     "showTitle": false,
     "tableResultSettingsMap": {},
     "title": ""
    }
   },
   "outputs": [],
   "source": [
    "country_to_iso_numeric = {\n",
    "    'United-States': 840,\n",
    "    'Cuba': 192,\n",
    "    'Jamaica': 388,\n",
    "    'India': 356,\n",
    "    'Not-Informed': 0,\n",
    "    'Mexico': 484,\n",
    "    'South Korea': 410,\n",
    "    'Puerto-Rico': 630,\n",
    "    'England': 826,  # parte do UK\n",
    "    'Canada': 124,\n",
    "    'Germany': 276,\n",
    "    'Iran': 364,\n",
    "    'Philippines': 608,\n",
    "    'Italy': 380,\n",
    "    'Poland': 616,\n",
    "    'Columbia': 170,  # corrigido para Colombia\n",
    "    'Cambodia': 116,\n",
    "    'Thailand': 764,\n",
    "    'Ecuador': 218,\n",
    "    'Laos': 418,\n",
    "    'Taiwan': 158,\n",
    "    'Haiti': 332,\n",
    "    'Portugal': 620,\n",
    "    'Dominican-Republic': 214,\n",
    "    'El-Salvador': 222,\n",
    "    'France': 250,\n",
    "    'Honduras': 340,\n",
    "    'Guatemala': 320,\n",
    "    'China': 156,\n",
    "    'Japan': 392,\n",
    "    'Yugoslavia': 890,  # código histórico\n",
    "    'Peru': 604,\n",
    "    'Outlying-US(Guam-USVI-etc)': 581,\n",
    "    'Scotland': 826,  # parte do UK\n",
    "    'Trinadad&Tobago': 780,\n",
    "    'Greece': 300,\n",
    "    'Nicaragua': 558,\n",
    "    'Vietnam': 704,\n",
    "    'Hong': 344,  # Hong Kong\n",
    "    'Ireland': 372,\n",
    "    'Hungary': 348,\n",
    "    'South': 840,  # como United States (por instrução)\n",
    "    'Holand-Netherlands': 528  # Netherlands\n",
    "}\n"
   ]
  },
  {
   "cell_type": "code",
   "execution_count": 0,
   "metadata": {
    "application/vnd.databricks.v1+cell": {
     "cellMetadata": {
      "byteLimit": 2048000,
      "rowLimit": 10000
     },
     "inputWidgets": {},
     "nuid": "5f26c057-b7e8-41b4-a315-dffeeea15b79",
     "showTitle": false,
     "tableResultSettingsMap": {},
     "title": ""
    }
   },
   "outputs": [],
   "source": [
    "def set_target(df:pd.DataFrame, target:str='income', positive:str='>50K') -> pd.DataFrame:\n",
    "    df[target] = (df[target] == positive).astype(int)\n",
    "    return df\n",
    "\n",
    "def drop_columns(df:pd.DataFrame, columns:list) -> pd.DataFrame:\n",
    "    return df.drop(columns, axis=1)\n",
    "\n",
    "def set_unemployed(df: pd.DataFrame) -> pd.DataFrame:\n",
    "    mask = df['workclass'].eq('Never-worked')\n",
    "    df.loc[mask, 'occupation'] = 'Unemployed'\n",
    "    return df\n",
    "\n",
    "def set_not_informed(df: pd.DataFrame) -> pd.DataFrame:\n",
    "    mask = ((df['workclass'].eq('?') & df['occupation'].eq('?')) |\\\n",
    "         (df['workclass'].isna() & df['occupation'].isna()) )\n",
    "    df.loc[mask, ['workclass', 'occupation']] = 'Not-Informed'\n",
    "    return df\n",
    "\n",
    "def set_country_not_informed(df: pd.DataFrame)->pd.DataFrame:\n",
    "    mask = (df['native-country'].isna() | df['native-country'].eq('?'))\n",
    "    df.loc[mask, 'native-country'] = 'Not-Informed'\n",
    "    return df\n",
    "\n",
    "def set_south_korea(df:pd.DataFrame)->pd.DataFrame:\n",
    "    mask = ((df['native-country'].eq('South'))&(df['race'].eq('Asian-Pac-Islander')))\n",
    "    df.loc[mask, 'native-country'] = 'South Korea'\n",
    "    return df"
   ]
  },
  {
   "cell_type": "code",
   "execution_count": 0,
   "metadata": {
    "application/vnd.databricks.v1+cell": {
     "cellMetadata": {
      "byteLimit": 2048000,
      "rowLimit": 10000
     },
     "inputWidgets": {},
     "nuid": "965b5c4d-f4a8-4e57-9bc5-32a21e3e675a",
     "showTitle": false,
     "tableResultSettingsMap": {},
     "title": ""
    }
   },
   "outputs": [],
   "source": [
    "column_to_drop = ['fnlwgt', 'capital-gain', 'capital-loss']\n",
    "test = set_unemployed(pandas_df)\n",
    "test = drop_columns(test, column_to_drop)\n",
    "test = set_not_informed(test)\n",
    "test = set_country_not_informed(test)\n",
    "test = set_south_korea(test)\n",
    "test.head()"
   ]
  },
  {
   "cell_type": "code",
   "execution_count": 0,
   "metadata": {
    "application/vnd.databricks.v1+cell": {
     "cellMetadata": {
      "byteLimit": 2048000,
      "rowLimit": 10000
     },
     "inputWidgets": {},
     "nuid": "68f4701e-6912-44ac-8b7a-cdca293b2d52",
     "showTitle": false,
     "tableResultSettingsMap": {},
     "title": ""
    }
   },
   "outputs": [],
   "source": [
    "occupation_list = test['occupation'].unique().tolist()\n",
    "workclass_list = test['workclass'].unique().tolist()\n",
    "native_country_list = test['native-country'].unique().tolist()\n",
    "sex_list = test['sex'].unique().tolist()\n",
    "marital_status_list = test['marital-status'].unique().tolist()\n",
    "race_list = test['race'].unique().tolist()\n",
    "education_list = test['education'].unique().tolist()\n",
    "relationship_list = test['relationship'].unique().tolist()"
   ]
  },
  {
   "cell_type": "code",
   "execution_count": 0,
   "metadata": {
    "application/vnd.databricks.v1+cell": {
     "cellMetadata": {
      "byteLimit": 2048000,
      "rowLimit": 10000
     },
     "inputWidgets": {},
     "nuid": "a16390d1-faac-41fb-9912-4ae1a8038b60",
     "showTitle": false,
     "tableResultSettingsMap": {},
     "title": ""
    }
   },
   "outputs": [],
   "source": [
    "print(f'Occupation: {occupation_list}\\n')\n",
    "print(f'Workclass: {workclass_list}\\n')\n",
    "print(f'Native Country: {native_country_list}\\n')\n",
    "print(f'Sex: {sex_list}\\n')\n",
    "print(f'Marital Status: {marital_status_list}\\n')\n",
    "print(f'Race: {race_list}\\n')\n",
    "print(f'Education: {education_list}\\n')\n",
    "print(f'Relationship: {relationship_list}\\n') "
   ]
  },
  {
   "cell_type": "code",
   "execution_count": 0,
   "metadata": {
    "application/vnd.databricks.v1+cell": {
     "cellMetadata": {
      "byteLimit": 2048000,
      "rowLimit": 10000
     },
     "inputWidgets": {},
     "nuid": "243d1dca-2095-449a-8738-1b35fd7f1588",
     "showTitle": false,
     "tableResultSettingsMap": {},
     "title": ""
    }
   },
   "outputs": [],
   "source": [
    "test.info()"
   ]
  },
  {
   "cell_type": "code",
   "execution_count": 0,
   "metadata": {
    "application/vnd.databricks.v1+cell": {
     "cellMetadata": {
      "byteLimit": 2048000,
      "rowLimit": 10000
     },
     "inputWidgets": {},
     "nuid": "e61619fa-f30b-4fb2-9c8b-c8105eb02424",
     "showTitle": false,
     "tableResultSettingsMap": {},
     "title": ""
    }
   },
   "outputs": [],
   "source": [
    "data = test[(test['native-country'] == 'South')&(test['race'] == 'Black')]\n",
    "data.head()"
   ]
  },
  {
   "cell_type": "code",
   "execution_count": 0,
   "metadata": {
    "application/vnd.databricks.v1+cell": {
     "cellMetadata": {
      "byteLimit": 2048000,
      "rowLimit": 10000
     },
     "inputWidgets": {},
     "nuid": "7757356c-d23d-4860-a0b3-694e11ebc2c0",
     "showTitle": false,
     "tableResultSettingsMap": {},
     "title": ""
    }
   },
   "outputs": [],
   "source": [
    "data['race'].unique()"
   ]
  },
  {
   "cell_type": "code",
   "execution_count": 0,
   "metadata": {
    "application/vnd.databricks.v1+cell": {
     "cellMetadata": {},
     "inputWidgets": {},
     "nuid": "08a63ca6-7cc3-4580-a351-701a69e19c50",
     "showTitle": false,
     "tableResultSettingsMap": {},
     "title": ""
    }
   },
   "outputs": [],
   "source": []
  }
 ],
 "metadata": {
  "application/vnd.databricks.v1+notebook": {
   "computePreferences": {
    "hardware": {
     "accelerator": null,
     "gpuPoolId": null,
     "memory": null
    }
   },
   "dashboards": [],
   "environmentMetadata": {
    "base_environment": "",
    "environment_version": "3"
   },
   "inputWidgetPreferences": null,
   "language": "python",
   "notebookMetadata": {
    "pythonIndentUnit": 4
   },
   "notebookName": "Silver Layer",
   "widgets": {}
  },
  "language_info": {
   "name": "python"
  }
 },
 "nbformat": 4,
 "nbformat_minor": 0
}
