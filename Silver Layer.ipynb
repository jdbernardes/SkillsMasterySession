{
 "cells": [
  {
   "cell_type": "code",
   "execution_count": 0,
   "metadata": {
    "application/vnd.databricks.v1+cell": {
     "cellMetadata": {
      "byteLimit": 2048000,
      "rowLimit": 10000
     },
     "inputWidgets": {},
     "nuid": "4cfbfbdf-bb32-4319-99e2-b32e4e094998",
     "showTitle": false,
     "tableResultSettingsMap": {},
     "title": ""
    }
   },
   "outputs": [],
   "source": [
    "!pip install scikit-learn --q\n",
    "!pip install pandas --q\n",
    "dbutils.library.restartPython()"
   ]
  },
  {
   "cell_type": "code",
   "execution_count": 0,
   "metadata": {
    "application/vnd.databricks.v1+cell": {
     "cellMetadata": {
      "byteLimit": 2048000,
      "rowLimit": 10000
     },
     "inputWidgets": {},
     "nuid": "ee46223a-5dbb-41bc-8644-a86d092b4117",
     "showTitle": false,
     "tableResultSettingsMap": {},
     "title": ""
    }
   },
   "outputs": [],
   "source": [
    "import pandas as pd"
   ]
  },
  {
   "cell_type": "code",
   "execution_count": 0,
   "metadata": {
    "application/vnd.databricks.v1+cell": {
     "cellMetadata": {
      "byteLimit": 2048000,
      "rowLimit": 10000
     },
     "inputWidgets": {},
     "nuid": "d243892f-1784-40b0-b80f-9d67ba05b148",
     "showTitle": false,
     "tableResultSettingsMap": {},
     "title": ""
    }
   },
   "outputs": [],
   "source": [
    "from sklearn.pipeline import Pipeline\n",
    "from sklearn.preprocessing import FunctionTransformer"
   ]
  },
  {
   "cell_type": "markdown",
   "metadata": {
    "application/vnd.databricks.v1+cell": {
     "cellMetadata": {},
     "inputWidgets": {},
     "nuid": "391c17d3-4bfc-4062-979a-6cc3d42b3a8d",
     "showTitle": false,
     "tableResultSettingsMap": {},
     "title": ""
    }
   },
   "source": [
    "## Creating Unbiased Silver Table"
   ]
  },
  {
   "cell_type": "code",
   "execution_count": 0,
   "metadata": {
    "application/vnd.databricks.v1+cell": {
     "cellMetadata": {
      "byteLimit": 2048000,
      "rowLimit": 10000
     },
     "inputWidgets": {},
     "nuid": "ef690453-cfce-4fa2-8ebd-701d257c9b56",
     "showTitle": false,
     "tableResultSettingsMap": {},
     "title": ""
    }
   },
   "outputs": [],
   "source": [
    "spark_df = spark.table('bronze.sensus')\n",
    "pandas_df = spark_df.toPandas()\n",
    "pandas_df.head()"
   ]
  },
  {
   "cell_type": "code",
   "execution_count": 0,
   "metadata": {
    "application/vnd.databricks.v1+cell": {
     "cellMetadata": {
      "byteLimit": 2048000,
      "rowLimit": 10000
     },
     "inputWidgets": {},
     "nuid": "68f4701e-6912-44ac-8b7a-cdca293b2d52",
     "showTitle": false,
     "tableResultSettingsMap": {},
     "title": ""
    }
   },
   "outputs": [],
   "source": [
    "occupation_list = pandas_df['occupation'].unique().tolist()\n",
    "workclass_list = pandas_df['workclass'].unique().tolist()\n",
    "native_country_list = pandas_df['native-country'].unique().tolist()\n",
    "sex_list = pandas_df['sex'].unique().tolist()\n",
    "marital_status_list = pandas_df['marital-status'].unique().tolist()\n",
    "race_list = pandas_df['race'].unique().tolist()\n",
    "education_list = pandas_df['education'].unique().tolist()\n",
    "relationship_list = pandas_df['relationship'].unique().tolist()"
   ]
  },
  {
   "cell_type": "code",
   "execution_count": 0,
   "metadata": {
    "application/vnd.databricks.v1+cell": {
     "cellMetadata": {
      "byteLimit": 2048000,
      "rowLimit": 10000
     },
     "inputWidgets": {},
     "nuid": "a16390d1-faac-41fb-9912-4ae1a8038b60",
     "showTitle": false,
     "tableResultSettingsMap": {},
     "title": ""
    }
   },
   "outputs": [],
   "source": [
    "print(f'Occupation: {occupation_list}\\n')\n",
    "print(f'Workclass: {workclass_list}\\n')\n",
    "print(f'Native Country: {native_country_list}\\n')\n",
    "print(f'Sex: {sex_list}\\n')\n",
    "print(f'Marital Status: {marital_status_list}\\n')\n",
    "print(f'Race: {race_list}\\n')\n",
    "print(f'Education: {education_list}\\n')\n",
    "print(f'Relationship: {relationship_list}\\n') "
   ]
  },
  {
   "cell_type": "code",
   "execution_count": 0,
   "metadata": {
    "application/vnd.databricks.v1+cell": {
     "cellMetadata": {
      "byteLimit": 2048000,
      "rowLimit": 10000
     },
     "inputWidgets": {},
     "nuid": "5f26c057-b7e8-41b4-a315-dffeeea15b79",
     "showTitle": false,
     "tableResultSettingsMap": {},
     "title": ""
    }
   },
   "outputs": [],
   "source": [
    "def set_target(df:pd.DataFrame, target:str='income', positive:str='>50K') -> pd.DataFrame:\n",
    "    df[target] = (df[target] == positive).astype(int)\n",
    "    return df\n",
    "\n",
    "def drop_columns(df:pd.DataFrame, columns:list) -> pd.DataFrame:\n",
    "    return df.drop(columns, axis=1)\n",
    "\n",
    "def set_unemployed(df: pd.DataFrame) -> pd.DataFrame:\n",
    "    mask = df['workclass'].eq('Never-worked')\n",
    "    df.loc[mask, 'occupation'] = 'Unemployed'\n",
    "    return df\n",
    "\n",
    "def set_not_informed(df: pd.DataFrame) -> pd.DataFrame:\n",
    "    mask = ((df['workclass'].eq('?') & df['occupation'].eq('?')) |\\\n",
    "         (df['workclass'].isna() & df['occupation'].isna()) )\n",
    "    df.loc[mask, ['workclass', 'occupation']] = 'Not-Informed'\n",
    "    return df\n",
    "\n",
    "def set_country_not_informed(df: pd.DataFrame)->pd.DataFrame:\n",
    "    mask = (df['native-country'].isna() | df['native-country'].eq('?'))\n",
    "    df.loc[mask, 'native-country'] = 'Not-Informed'\n",
    "    return df\n",
    "\n",
    "def set_south_korea(df:pd.DataFrame)->pd.DataFrame:\n",
    "    mask = ((df['native-country'].eq('South'))&(df['race'].eq('Asian-Pac-Islander')))\n",
    "    df.loc[mask, 'native-country'] = 'South Korea'\n",
    "    return df\n",
    "\n",
    "def save_to_silver(df: pd.DataFrame, table_name:str)->pd.DataFrame:\n",
    "    data = spark.createDataFrame(df)\n",
    "    data.write.mode(\"overwrite\").saveAsTable(f'silver.{table_name}')"
   ]
  },
  {
   "cell_type": "code",
   "execution_count": 0,
   "metadata": {
    "application/vnd.databricks.v1+cell": {
     "cellMetadata": {
      "byteLimit": 2048000,
      "rowLimit": 10000
     },
     "inputWidgets": {},
     "nuid": "6486427a-bf35-4c51-916e-a070b7b721e7",
     "showTitle": false,
     "tableResultSettingsMap": {},
     "title": ""
    }
   },
   "outputs": [],
   "source": [
    "country_to_iso_numeric = {\n",
    "    'United-States': 840,\n",
    "    'Cuba': 192,\n",
    "    'Jamaica': 388,\n",
    "    'India': 356,\n",
    "    'Not-Informed': 0,\n",
    "    'Mexico': 484,\n",
    "    'South Korea': 410,\n",
    "    'Puerto-Rico': 630,\n",
    "    'England': 826,  # parte do UK\n",
    "    'Canada': 124,\n",
    "    'Germany': 276,\n",
    "    'Iran': 364,\n",
    "    'Philippines': 608,\n",
    "    'Italy': 380,\n",
    "    'Poland': 616,\n",
    "    'Columbia': 170,  # corrigido para Colombia\n",
    "    'Cambodia': 116,\n",
    "    'Thailand': 764,\n",
    "    'Ecuador': 218,\n",
    "    'Laos': 418,\n",
    "    'Taiwan': 158,\n",
    "    'Haiti': 332,\n",
    "    'Portugal': 620,\n",
    "    'Dominican-Republic': 214,\n",
    "    'El-Salvador': 222,\n",
    "    'France': 250,\n",
    "    'Honduras': 340,\n",
    "    'Guatemala': 320,\n",
    "    'China': 156,\n",
    "    'Japan': 392,\n",
    "    'Yugoslavia': 890,  # código histórico\n",
    "    'Peru': 604,\n",
    "    'Outlying-US(Guam-USVI-etc)': 581,\n",
    "    'Scotland': 826,  # parte do UK\n",
    "    'Trinadad&Tobago': 780,\n",
    "    'Greece': 300,\n",
    "    'Nicaragua': 558,\n",
    "    'Vietnam': 704,\n",
    "    'Hong': 344,  # Hong Kong\n",
    "    'Ireland': 372,\n",
    "    'Hungary': 348,\n",
    "    'South': 840,  # como United States (por instrução)\n",
    "    'Holand-Netherlands': 528  # Netherlands\n",
    "}\n"
   ]
  },
  {
   "cell_type": "code",
   "execution_count": 0,
   "metadata": {
    "application/vnd.databricks.v1+cell": {
     "cellMetadata": {
      "byteLimit": 2048000,
      "rowLimit": 10000
     },
     "inputWidgets": {},
     "nuid": "965b5c4d-f4a8-4e57-9bc5-32a21e3e675a",
     "showTitle": false,
     "tableResultSettingsMap": {},
     "title": ""
    }
   },
   "outputs": [],
   "source": [
    "#column_to_drop = ['fnlwgt', 'capital-gain', 'capital-loss']\n",
    "#test = set_unemployed(pandas_df)\n",
    "#test = drop_columns(test, column_to_drop)\n",
    "#test = set_not_informed(test)\n",
    "#test = set_country_not_informed(test)\n",
    "#test = set_south_korea(test)\n",
    "#test.head()"
   ]
  },
  {
   "cell_type": "code",
   "execution_count": 0,
   "metadata": {
    "application/vnd.databricks.v1+cell": {
     "cellMetadata": {
      "byteLimit": 2048000,
      "rowLimit": 10000
     },
     "inputWidgets": {},
     "nuid": "40e201df-446e-4cfc-b6f5-777e12a4f4aa",
     "showTitle": false,
     "tableResultSettingsMap": {},
     "title": ""
    }
   },
   "outputs": [],
   "source": [
    "column_to_drop = ['fnlwgt', 'capital-gain', 'capital-loss','education', 'capital-gain']\n",
    "silver_pipeline = Pipeline(\n",
    "    steps=[\n",
    "        ('set_target', FunctionTransformer(set_target)),\n",
    "        ('drop_columns', FunctionTransformer(drop_columns, kw_args={'columns':column_to_drop})),\n",
    "        ('set_unemployed', FunctionTransformer(set_unemployed)),\n",
    "        ('set_not_informed', FunctionTransformer(set_not_informed)),\n",
    "        ('set_country_not_informed', FunctionTransformer(set_country_not_informed)),\n",
    "        ('set_south_korea', FunctionTransformer(set_south_korea))\n",
    "    ]\n",
    ")"
   ]
  },
  {
   "cell_type": "code",
   "execution_count": 0,
   "metadata": {
    "application/vnd.databricks.v1+cell": {
     "cellMetadata": {
      "byteLimit": 2048000,
      "rowLimit": 10000
     },
     "inputWidgets": {},
     "nuid": "cfa0466a-8dd9-4c53-9d93-c596a622d01d",
     "showTitle": false,
     "tableResultSettingsMap": {},
     "title": ""
    }
   },
   "outputs": [],
   "source": [
    "data = silver_pipeline.fit_transform(pandas_df)\n",
    "data.head()"
   ]
  },
  {
   "cell_type": "code",
   "execution_count": 0,
   "metadata": {
    "application/vnd.databricks.v1+cell": {
     "cellMetadata": {
      "byteLimit": 2048000,
      "rowLimit": 10000
     },
     "inputWidgets": {},
     "nuid": "e334d245-d38a-4061-b6ea-53dea21ac389",
     "showTitle": false,
     "tableResultSettingsMap": {},
     "title": ""
    }
   },
   "outputs": [],
   "source": [
    "table = 'sensus'\n",
    "save_to_silver(data, table)"
   ]
  },
  {
   "cell_type": "code",
   "execution_count": 0,
   "metadata": {
    "application/vnd.databricks.v1+cell": {
     "cellMetadata": {
      "byteLimit": 2048000,
      "implicitDf": true,
      "rowLimit": 10000
     },
     "inputWidgets": {},
     "nuid": "cb717730-5b34-46db-872f-36807230bee3",
     "showTitle": false,
     "tableResultSettingsMap": {},
     "title": ""
    }
   },
   "outputs": [],
   "source": [
    "%sql\n",
    "SELECT * FROM silver.sensus;"
   ]
  },
  {
   "cell_type": "markdown",
   "metadata": {
    "application/vnd.databricks.v1+cell": {
     "cellMetadata": {},
     "inputWidgets": {},
     "nuid": "589cefcf-d772-4e35-966c-74d44bbe2d19",
     "showTitle": false,
     "tableResultSettingsMap": {},
     "title": ""
    }
   },
   "source": [
    "## Creating Biased Silver Table"
   ]
  },
  {
   "cell_type": "code",
   "execution_count": 0,
   "metadata": {
    "application/vnd.databricks.v1+cell": {
     "cellMetadata": {
      "byteLimit": 2048000,
      "rowLimit": 10000
     },
     "inputWidgets": {},
     "nuid": "af833fcd-46b1-4b0f-ac36-2005b5281174",
     "showTitle": false,
     "tableResultSettingsMap": {},
     "title": ""
    }
   },
   "outputs": [],
   "source": [
    "spark_df_biased = spark.table('bronze.biased_sensus')\n",
    "pandas_df_biased = spark_df.toPandas()\n",
    "pandas_df_biased.head()"
   ]
  },
  {
   "cell_type": "code",
   "execution_count": 0,
   "metadata": {
    "application/vnd.databricks.v1+cell": {
     "cellMetadata": {
      "byteLimit": 2048000,
      "rowLimit": 10000
     },
     "inputWidgets": {},
     "nuid": "de690df2-0f7e-45f9-86d6-357ad2aa8c07",
     "showTitle": false,
     "tableResultSettingsMap": {},
     "title": ""
    }
   },
   "outputs": [],
   "source": [
    "biased_data = silver_pipeline.fit_transform(pandas_df_biased)\n",
    "biased_data.head()"
   ]
  },
  {
   "cell_type": "code",
   "execution_count": 0,
   "metadata": {
    "application/vnd.databricks.v1+cell": {
     "cellMetadata": {
      "byteLimit": 2048000,
      "rowLimit": 10000
     },
     "inputWidgets": {},
     "nuid": "25d5ebe6-6016-4499-adae-9e979b07b9d6",
     "showTitle": false,
     "tableResultSettingsMap": {},
     "title": ""
    }
   },
   "outputs": [],
   "source": [
    "table = 'biased_sensus'\n",
    "save_to_silver(biased_data, table)"
   ]
  }
 ],
 "metadata": {
  "application/vnd.databricks.v1+notebook": {
   "computePreferences": {
    "hardware": {
     "accelerator": null,
     "gpuPoolId": null,
     "memory": null
    }
   },
   "dashboards": [],
   "environmentMetadata": {
    "base_environment": "",
    "environment_version": "3"
   },
   "inputWidgetPreferences": null,
   "language": "python",
   "notebookMetadata": {
    "mostRecentlyExecutedCommandWithImplicitDF": {
     "commandId": 6137704151430053,
     "dataframes": [
      "_sqldf"
     ]
    },
    "pythonIndentUnit": 4
   },
   "notebookName": "Silver Layer",
   "widgets": {}
  },
  "language_info": {
   "name": "python"
  }
 },
 "nbformat": 4,
 "nbformat_minor": 0
}
